{
 "cells": [
  {
   "cell_type": "markdown",
   "metadata": {},
   "source": [
    "### Credit\n",
    "simpleT5: https://github.com/Shivanandroy/simpleT5\n",
    "\n",
    "Blogpost: https://medium.com/geekculture/simplet5-train-t5-models-in-just-3-lines-of-code-by-shivanand-roy-2021-354df5ae46ba\n",
    "\n"
   ]
  },
  {
   "cell_type": "markdown",
   "metadata": {
    "jupyter": {
     "source_hidden": true
    }
   },
   "source": [
    "## Abstractive Summarization with T5 Demo"
   ]
  },
  {
   "cell_type": "code",
   "execution_count": null,
   "metadata": {
    "_cell_guid": "b1076dfc-b9ad-4769-8c92-a6c4dae69d19",
    "_uuid": "8f2839f25d086af736a60e9eeb907d3b93b6e0e5",
    "execution": {
     "iopub.execute_input": "2021-06-27T22:09:29.917776Z",
     "iopub.status.busy": "2021-06-27T22:09:29.917394Z",
     "iopub.status.idle": "2021-06-27T22:09:29.930736Z",
     "shell.execute_reply": "2021-06-27T22:09:29.93001Z",
     "shell.execute_reply.started": "2021-06-27T22:09:29.917744Z"
    }
   },
   "outputs": [],
   "source": [
    "\n",
    "import numpy as np # linear algebra\n",
    "import pandas as pd # data processing, CSV file I/O (e.g. pd.read_csv)\n",
    "from sklearn.model_selection import train_test_split\n",
    "\n",
    "# Input data files are available in the read-only \"../input/\" directory\n",
    "# For example, running this (by clicking run or pressing Shift+Enter) will list all files under the input directory\n",
    "\n",
    "import os\n",
    "for dirname, _, filenames in os.walk('/kaggle/input'):\n",
    "    for filename in filenames:\n",
    "        print(os.path.join(dirname, filename))\n",
    "\n",
    "# You can write up to 20GB to the current directory (/kaggle/working/) that gets preserved as output when you create a version using \"Save & Run All\" \n",
    "# You can also write temporary files to /kaggle/temp/, but they won't be saved outside of the current session"
   ]
  },
  {
   "cell_type": "code",
   "execution_count": null,
   "metadata": {
    "execution": {
     "iopub.execute_input": "2021-06-27T21:30:18.130302Z",
     "iopub.status.busy": "2021-06-27T21:30:18.129967Z",
     "iopub.status.idle": "2021-06-27T21:30:37.294999Z",
     "shell.execute_reply": "2021-06-27T21:30:37.293953Z",
     "shell.execute_reply.started": "2021-06-27T21:30:18.130268Z"
    }
   },
   "outputs": [],
   "source": [
    "! pip install simplet5 -q"
   ]
  },
  {
   "cell_type": "markdown",
   "metadata": {},
   "source": [
    "# Read Input Dataset - desired columns `headlines` & `text`"
   ]
  },
  {
   "cell_type": "code",
   "execution_count": null,
   "metadata": {
    "execution": {
     "iopub.execute_input": "2021-06-27T22:10:35.057887Z",
     "iopub.status.busy": "2021-06-27T22:10:35.057558Z",
     "iopub.status.idle": "2021-06-27T22:10:35.137752Z",
     "shell.execute_reply": "2021-06-27T22:10:35.136988Z",
     "shell.execute_reply.started": "2021-06-27T22:10:35.057859Z"
    }
   },
   "outputs": [],
   "source": [
    "df = pd.read_csv(\"../input/news-summary/news_summary.csv\", encoding='latin-1', usecols=['headlines', 'text'])"
   ]
  },
  {
   "cell_type": "code",
   "execution_count": null,
   "metadata": {
    "execution": {
     "iopub.execute_input": "2021-06-27T22:10:41.245664Z",
     "iopub.status.busy": "2021-06-27T22:10:41.245285Z",
     "iopub.status.idle": "2021-06-27T22:10:41.256586Z",
     "shell.execute_reply": "2021-06-27T22:10:41.255727Z",
     "shell.execute_reply.started": "2021-06-27T22:10:41.245618Z"
    }
   },
   "outputs": [],
   "source": [
    "df.head()"
   ]
  },
  {
   "cell_type": "markdown",
   "metadata": {},
   "source": [
    "# T5 Data Prep with Training Data Column Names - `source_text` & `target_text`"
   ]
  },
  {
   "cell_type": "code",
   "execution_count": null,
   "metadata": {
    "execution": {
     "iopub.execute_input": "2021-06-27T22:11:33.925124Z",
     "iopub.status.busy": "2021-06-27T22:11:33.924781Z",
     "iopub.status.idle": "2021-06-27T22:11:33.933377Z",
     "shell.execute_reply": "2021-06-27T22:11:33.932422Z",
     "shell.execute_reply.started": "2021-06-27T22:11:33.925092Z"
    }
   },
   "outputs": [],
   "source": [
    "# simpleT5 expects dataframe to have 2 columns: \"source_text\" and \"target_text\"\n",
    "df = df.rename(columns={\"headlines\":\"target_text\", \"text\":\"source_text\"})\n",
    "df = df[['source_text', 'target_text']]\n"
   ]
  },
  {
   "cell_type": "code",
   "execution_count": null,
   "metadata": {
    "execution": {
     "iopub.execute_input": "2021-06-27T22:11:38.195979Z",
     "iopub.status.busy": "2021-06-27T22:11:38.195653Z",
     "iopub.status.idle": "2021-06-27T22:11:38.205214Z",
     "shell.execute_reply": "2021-06-27T22:11:38.204334Z",
     "shell.execute_reply.started": "2021-06-27T22:11:38.195951Z"
    }
   },
   "outputs": [],
   "source": [
    "df.head()"
   ]
  },
  {
   "cell_type": "markdown",
   "metadata": {},
   "source": [
    "# T5 Data Prep with Summarization Tax Prefix"
   ]
  },
  {
   "cell_type": "code",
   "execution_count": null,
   "metadata": {
    "execution": {
     "iopub.execute_input": "2021-06-27T21:33:04.289886Z",
     "iopub.status.busy": "2021-06-27T21:33:04.289563Z",
     "iopub.status.idle": "2021-06-27T21:33:04.303976Z",
     "shell.execute_reply": "2021-06-27T21:33:04.302969Z",
     "shell.execute_reply.started": "2021-06-27T21:33:04.28986Z"
    }
   },
   "outputs": [],
   "source": [
    "# T5 model expects a task related prefix: since it is a summarization task, we will add a prefix \"summarize: \"\n",
    "df['source_text'] = \"summarize: \" + df['source_text']\n",
    "df"
   ]
  },
  {
   "cell_type": "code",
   "execution_count": null,
   "metadata": {
    "execution": {
     "iopub.execute_input": "2021-06-27T21:33:31.782543Z",
     "iopub.status.busy": "2021-06-27T21:33:31.782192Z",
     "iopub.status.idle": "2021-06-27T21:33:31.792884Z",
     "shell.execute_reply": "2021-06-27T21:33:31.791965Z",
     "shell.execute_reply.started": "2021-06-27T21:33:31.782508Z"
    }
   },
   "outputs": [],
   "source": [
    "train_df, test_df = train_test_split(df, test_size=0.3)\n",
    "train_df.shape, test_df.shape"
   ]
  },
  {
   "cell_type": "markdown",
   "metadata": {},
   "source": [
    "# Using SimpleT5 for Model Training - Instantiate, Download Pre-trained Model"
   ]
  },
  {
   "cell_type": "code",
   "execution_count": null,
   "metadata": {
    "execution": {
     "iopub.execute_input": "2021-06-27T21:33:39.907025Z",
     "iopub.status.busy": "2021-06-27T21:33:39.906703Z",
     "iopub.status.idle": "2021-06-27T21:39:46.025104Z",
     "shell.execute_reply": "2021-06-27T21:39:46.02415Z",
     "shell.execute_reply.started": "2021-06-27T21:33:39.906994Z"
    }
   },
   "outputs": [],
   "source": [
    "from simplet5 import SimpleT5\n",
    "\n",
    "model = SimpleT5()\n",
    "model.from_pretrained(model_type=\"t5\", model_name=\"t5-base\")\n"
   ]
  },
  {
   "cell_type": "markdown",
   "metadata": {},
   "source": [
    "# Model Training"
   ]
  },
  {
   "cell_type": "code",
   "execution_count": null,
   "metadata": {
    "execution": {
     "iopub.execute_input": "2021-06-27T21:42:57.844754Z",
     "iopub.status.busy": "2021-06-27T21:42:57.844384Z",
     "iopub.status.idle": "2021-06-27T21:51:11.352575Z",
     "shell.execute_reply": "2021-06-27T21:51:11.351655Z",
     "shell.execute_reply.started": "2021-06-27T21:42:57.844723Z"
    }
   },
   "outputs": [],
   "source": [
    "model.train(train_df=train_df[:5000],\n",
    "            eval_df=test_df[:100], \n",
    "            source_max_token_len=128, \n",
    "            target_max_token_len=50, \n",
    "            batch_size=8, max_epochs=5, use_gpu=True)"
   ]
  },
  {
   "cell_type": "markdown",
   "metadata": {},
   "source": [
    "# Output Folder Content\n"
   ]
  },
  {
   "cell_type": "code",
   "execution_count": null,
   "metadata": {
    "execution": {
     "iopub.execute_input": "2021-06-27T22:14:37.901374Z",
     "iopub.status.busy": "2021-06-27T22:14:37.901045Z",
     "iopub.status.idle": "2021-06-27T22:14:38.645966Z",
     "shell.execute_reply": "2021-06-27T22:14:38.645125Z",
     "shell.execute_reply.started": "2021-06-27T22:14:37.901345Z"
    }
   },
   "outputs": [],
   "source": [
    "! ( cd outputs; ls )"
   ]
  },
  {
   "cell_type": "markdown",
   "metadata": {},
   "source": [
    "# Model Inference"
   ]
  },
  {
   "cell_type": "code",
   "execution_count": null,
   "metadata": {
    "execution": {
     "iopub.execute_input": "2021-06-27T22:15:28.685589Z",
     "iopub.status.busy": "2021-06-27T22:15:28.684913Z",
     "iopub.status.idle": "2021-06-27T22:15:32.471609Z",
     "shell.execute_reply": "2021-06-27T22:15:32.470763Z",
     "shell.execute_reply.started": "2021-06-27T22:15:28.685539Z"
    }
   },
   "outputs": [],
   "source": [
    "# let's load the trained model from the local output folder for inferencing:\n",
    "model.load_model(\"t5\",\"outputs/SimpleT5-epoch-2-train-loss-0.2888\", use_gpu=True)\n",
    "\n"
   ]
  },
  {
   "cell_type": "markdown",
   "metadata": {},
   "source": [
    "# Impressive Results"
   ]
  },
  {
   "cell_type": "code",
   "execution_count": null,
   "metadata": {
    "execution": {
     "iopub.execute_input": "2021-06-27T22:17:51.17584Z",
     "iopub.status.busy": "2021-06-27T22:17:51.175515Z",
     "iopub.status.idle": "2021-06-27T22:17:51.417146Z",
     "shell.execute_reply": "2021-06-27T22:17:51.416369Z",
     "shell.execute_reply.started": "2021-06-27T22:17:51.175812Z"
    }
   },
   "outputs": [],
   "source": [
    "#src = https://www.thehindu.com/business/Industry/twitter-interim-grievance-officer-for-india-quits/article35004295.ece\n",
    "text_to_summarize=\"\"\"summarize: Twitter’s interim resident grievance officer for India has stepped down, leaving the micro-blogging site without a grievance official as mandated by the new IT rules to address complaints from Indian subscribers, according to a source.\n",
    "\n",
    "The source said that Dharmendra Chatur, who was recently appointed as interim resident grievance officer for India by Twitter, has quit from the post.\n",
    "\n",
    "The social media company’s website no longer displays his name, as required under Information Technology (Intermediary Guidelines and Digital Media Ethics Code) Rules 2021.\n",
    "\n",
    "Twitter declined to comment on the development.\n",
    "\n",
    "The development comes at a time when the micro-blogging platform has been engaged in a tussle with the Indian government over the new social media rules. The government has slammed Twitter for deliberate defiance and failure to comply with the country’s new IT rules.\n",
    "\"\"\"\n",
    "model.predict(text_to_summarize)"
   ]
  },
  {
   "cell_type": "code",
   "execution_count": null,
   "metadata": {
    "execution": {
     "iopub.execute_input": "2021-06-27T22:18:10.87351Z",
     "iopub.status.busy": "2021-06-27T22:18:10.873166Z",
     "iopub.status.idle": "2021-06-27T22:18:11.168732Z",
     "shell.execute_reply": "2021-06-27T22:18:11.167742Z",
     "shell.execute_reply.started": "2021-06-27T22:18:10.87347Z"
    }
   },
   "outputs": [],
   "source": [
    "text_to_summarize=\"\"\"summarize: Vaccination and safety measures such as wearing face masks are essential when it comes to fighting the Delta Plus coronavirus variant, World Health Organization (WHO) representative to Russia Melita Vujnovic said.\n",
    "\n",
    "\"Vaccination plus masks, because just a vaccine is not enough with 'Delta Plus'. We need to make an effort over a short period of time, otherwise there would be a lockdown,\" Vujnovic said on the Soloviev Live YouTube show.\n",
    "\n",
    "She explained that vaccination is essential because it lowers the probability of spreading the virus and lowers the risks of severe disease. However, \"additional measures\" will probably be required as well, Vujnovic warned.\n",
    "\n",
    "Earlier in June, the WHO included the Delta variant in its list of coronavirus variants of concern as the strain had become prevalent and has caused a resurgence of COVID-19 cases in some countries, including Russia. India has also reported multiple cases of the Delta Plus strain, which was first discovered in March.\n",
    "\"\"\"\n",
    "model.predict(text_to_summarize)"
   ]
  },
  {
   "cell_type": "code",
   "execution_count": null,
   "metadata": {
    "execution": {
     "iopub.execute_input": "2021-06-27T22:19:27.115472Z",
     "iopub.status.busy": "2021-06-27T22:19:27.115121Z",
     "iopub.status.idle": "2021-06-27T22:19:27.477613Z",
     "shell.execute_reply": "2021-06-27T22:19:27.476577Z",
     "shell.execute_reply.started": "2021-06-27T22:19:27.115436Z"
    }
   },
   "outputs": [],
   "source": [
    "text_to_summarize=\"\"\"summarize: Travellers vaccinated with Covishield may not be eligible for the European Union’s ‘Green Pass’ that will be available for use from July 1. Many EU member states have started issuing the digital “vaccine passport” that will enable Europeans to move freely for work or tourism. The immunity passport will serve as proof that a person has been vaccinated against the coronavirus disease (Covid-19), or recently tested negative for the virus, or has the natural immunity built up from earlier infection.Covishield, a version of AstraZeneca Covid vaccine manufactured by Pune-based Serum Institute of India (SII), has not been approved by the EMA for the European market. The EU green pass will only recognise the Vaxzervria version of the AstraZeneca vaccine that is manufactured in the UK or other sites around Europe.\n",
    "\"\"\"\n",
    "model.predict(text_to_summarize)"
   ]
  },
  {
   "cell_type": "code",
   "execution_count": null,
   "metadata": {},
   "outputs": [],
   "source": []
  }
 ],
 "metadata": {
  "kernelspec": {
   "display_name": "Python 3 (ipykernel)",
   "language": "python",
   "name": "python3"
  },
  "language_info": {
   "codemirror_mode": {
    "name": "ipython",
    "version": 3
   },
   "file_extension": ".py",
   "mimetype": "text/x-python",
   "name": "python",
   "nbconvert_exporter": "python",
   "pygments_lexer": "ipython3",
   "version": "3.9.7"
  }
 },
 "nbformat": 4,
 "nbformat_minor": 4
}
